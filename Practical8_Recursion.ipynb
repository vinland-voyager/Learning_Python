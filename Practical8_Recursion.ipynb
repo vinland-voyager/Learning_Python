{
 "cells": [
  {
   "cell_type": "code",
   "execution_count": null,
   "id": "initial_id",
   "metadata": {
    "collapsed": true
   },
   "outputs": [],
   "source": [
    "'''\n",
    "Practical 8\n",
    "Write a python program that generates power set of a given list of Integers *recursively*\n",
    "a. Keep only the groups where adding all numbers gives an even number\n",
    "b. Arrange the groups so that the smallest groups comes last.\n",
    "'''"
   ]
  },
  {
   "metadata": {
    "ExecuteTime": {
     "end_time": "2025-10-30T03:18:59.292393Z",
     "start_time": "2025-10-30T03:18:49.639735Z"
    }
   },
   "cell_type": "code",
   "source": [
    "numList = []\n",
    "while True:\n",
    "    num = input(\"Please enter a number or leave blank to proceed: \")\n",
    "    if not num:\n",
    "        break\n",
    "    numList.append(int(num))\n",
    "print(f\"List of numbers: {numList}\")"
   ],
   "id": "67958fae5d8024c8",
   "outputs": [
    {
     "name": "stdout",
     "output_type": "stream",
     "text": [
      "List of numbers: [8, 9, 10]\n"
     ]
    }
   ],
   "execution_count": 1
  },
  {
   "metadata": {
    "ExecuteTime": {
     "end_time": "2025-10-30T03:19:25.784638Z",
     "start_time": "2025-10-30T03:19:25.781347Z"
    }
   },
   "cell_type": "code",
   "source": [
    "def powerSet(numList):\n",
    "    if not numList:\n",
    "        return [[]]\n",
    "    first = numList[0]\n",
    "    rest = numList[1:]\n",
    "    powerSet1 = powerSet(rest)\n",
    "    subSets = [[first] + subset for subset in powerSet1]\n",
    "    return powerSet1 + subSets\n",
    "\n",
    "def evenSet(power_set):\n",
    "    return [subset for subset in power_set if sum(subset) % 2 == 0]\n",
    "\n",
    "def arrangeSet(list_of_lists):\n",
    "    return sorted(list_of_lists, key=len, reverse=True)\n",
    "\n",
    "def finalSet(inputList):\n",
    "    power = powerSet(inputList)\n",
    "    even = evenSet(power)\n",
    "    arranged = arrangeSet(even)\n",
    "    return arranged"
   ],
   "id": "29ee491d7e22f75f",
   "outputs": [],
   "execution_count": 5
  },
  {
   "metadata": {
    "ExecuteTime": {
     "end_time": "2025-10-30T03:19:07.273631Z",
     "start_time": "2025-10-30T03:19:07.269896Z"
    }
   },
   "cell_type": "code",
   "source": [
    "result = finalSet(numList)\n",
    "print(\"\\nFinal Result:\")\n",
    "for group in result:\n",
    "    print(f\"{group}\",end=\"\\t\")"
   ],
   "id": "4fd2cdb8ba9cb831",
   "outputs": [
    {
     "name": "stdout",
     "output_type": "stream",
     "text": [
      "\n",
      "Final Result:\n",
      "[8, 10]\t[10]\t[8]\t[]\t"
     ]
    }
   ],
   "execution_count": 4
  }
 ],
 "metadata": {
  "kernelspec": {
   "display_name": "Python 3",
   "language": "python",
   "name": "python3"
  },
  "language_info": {
   "codemirror_mode": {
    "name": "ipython",
    "version": 2
   },
   "file_extension": ".py",
   "mimetype": "text/x-python",
   "name": "python",
   "nbconvert_exporter": "python",
   "pygments_lexer": "ipython2",
   "version": "2.7.6"
  }
 },
 "nbformat": 4,
 "nbformat_minor": 5
}
